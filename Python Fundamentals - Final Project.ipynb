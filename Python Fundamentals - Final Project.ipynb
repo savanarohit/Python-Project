import seaborn as sns
import pandas as pd

# Load the tips dataset from seaborn
tips = sns.load_dataset('tips')

