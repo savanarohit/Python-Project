import seaborn as sns
import pandas as pd

# Load the tips dataset from seaborn
tips = sns.load_dataset('tips')

import ipywidgets as widgets
from IPython.display import display

# Create a dropdown widget to select a column
column_dropdown = widgets.Dropdown(
    options=tips.columns,
    description='Select a column:'
)

# Create a button widget to process the selected column
process_button = widgets.Button(description='Process')

# Create a output widget to display the result
output = widgets.Output()

# Define a function to process the selected column
def process_column(_):
    selected_column = column_dropdown.value
    result = tips[selected_column].sum()
    with output:
        output.clear_output()
        print(f"The sum of {selected_column} column is: {result}")

# Register the function to be called when the button is clicked
process_button.on_click(process_column)

# Display the widgets
display(column_dropdown, process_button, output)


