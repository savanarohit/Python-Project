{
  "cells": [
    {
      "cell_type": "code",
      "execution_count": null,
      "metadata": {},
      "outputs": [],
      "source": [
        "import seaborn as sns\n",
        "import pandas as pd\n",
        "\n",
        "# Load the tips dataset from seaborn\n",
        "tips = sns.load_dataset('tips')\n",
        "\n",
        "import ipywidgets as widgets\n",
        "from IPython.display import display\n",
        "\n",
        "# Create a dropdown widget to select a column\n",
        "column_dropdown = widgets.Dropdown(\n",
        "    options=tips.columns,\n",
        "    description='Select a column:'\n",
        ")\n",
        "\n",
        "# Create a button widget to process the selected column\n",
        "process_button = widgets.Button(description='Process')\n",
        "\n",
        "# Create an output widget to display the result\n",
        "output = widgets.Output()\n",
        "\n",
        "# Define a function to process the selected column\n",
        "def process_column(_):\n",
        "    selected_column = column_dropdown.value\n",
        "    result = tips[selected_column].sum()\n",
        "    with output:\n",
        "        output.clear_output()\n",
        "        print(f'The sum of {selected_column} column is: {result}')\n",
        "\n",
        "# Register the function to be called when the button is clicked\n",
        "process_button.on_click(process_column)\n",
        "\n",
        "# Display the widgets\n",
        "display(column_dropdown, process_button, output)\n"
      ]
    }
  ],
  "metadata": {
    "kernelspec": {
      "display_name": "Python 3",
      "language": "python",
      "name": "python3"
    },
    "language_info": {
      "codemirror_mode": {
        "name": "ipython",
        "version": 3
      },
      "file_extension": ".py",
      "mimetype": "text/x-python",
      "name": "python",
      "nbconvert_exporter": "python",
      "pygments_lexer": "ipython3",
      "version": "3.7.11"
    }
  },
  "nbformat": 4,
  "nbformat_minor": 5
}
